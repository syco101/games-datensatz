{
 "cells": [
  {
   "cell_type": "markdown",
   "id": "be4be664-d25c-4c43-8d5a-96b9b9a792f3",
   "metadata": {},
   "source": [
    "## 4.1 Aussagekräftige Merkmale (Features)\n",
    "\n",
    "In meinem ursprünglichen Modell habe ich nur den `Price` (Preis) verwendet. \n",
    "Für die Evaluation berücksichtige ich zusätzlich folgende Felder:\n",
    "- `Positive` (Anzahl positiver Bewertungen): Ein Spiel mit vielen positiven Bewertungen wird tendenziell länger gespielt.\n",
    "- `DLC count` (Anzahl DLCs): Mehr Inhalte könnten zu längerer Spielzeit führen.\n"
   ]
  },
  {
   "cell_type": "code",
   "execution_count": 15,
   "id": "cc1ec2a6-86b0-40e0-a085-f07cee27dd82",
   "metadata": {},
   "outputs": [
    {
     "name": "stdout",
     "output_type": "stream",
     "text": [
      "Korrelationen mit Spielzeit:\n",
      "Price                       0.090815\n",
      "Positive                    0.193330\n",
      "DLC count                   0.029058\n",
      "Average playtime forever    1.000000\n",
      "Name: Average playtime forever, dtype: float64\n"
     ]
    }
   ],
   "source": [
    "import pandas as pd\n",
    "\n",
    "# Daten laden\n",
    "games = pd.read_csv(r\"C:\\Users\\david\\OneDrive\\Desktop\\Python lb\\games (1).csv\", delimiter=';', encoding='ISO-8859-1')\n",
    "\n",
    "# Nur Spiele mit Spielzeit > 0\n",
    "df = games[games['Average playtime forever'] > 0].copy()\n",
    "\n",
    "# Korrelationen anzeigen\n",
    "print(\"Korrelationen mit Spielzeit:\")\n",
    "print(df[['Price', 'Positive', 'DLC count', 'Average playtime forever']].corr()['Average playtime forever'])\n",
    "\n",
    "\n"
   ]
  },
  {
   "cell_type": "markdown",
   "id": "9e03527c-6dc0-4fce-821a-67bcf24e50d3",
   "metadata": {},
   "source": [
    "## 4.2 Messmethode: MSE (Mean Squared Error)\n",
    "\n",
    "Zur Bewertung des Regressionsmodells wird der mittlere quadratische Fehler (MSE) verwendet. \n",
    "Der MSE misst die durchschnittliche quadratische Abweichung zwischen den tatsächlichen und den vorhergesagten Werten. \n",
    "Je kleiner der MSE, desto besser passt das Modell zu den Daten.\n"
   ]
  },
  {
   "cell_type": "code",
   "execution_count": 17,
   "id": "76aa3f6d-a873-4f03-ba5f-d84d0cc7a5d3",
   "metadata": {},
   "outputs": [],
   "source": [
    "import pandas as pd\n",
    "from sklearn.model_selection import train_test_split\n",
    "from sklearn.linear_model import LinearRegression\n",
    "\n",
    "# CSV einlesen\n",
    "games = pd.read_csv(r\"C:\\Users\\david\\OneDrive\\Desktop\\Python lb\\games (1).csv\", delimiter=\";\", encoding=\"ISO-8859-1\")\n",
    "\n",
    "# Nur relevante Zeilen behalten\n",
    "games = games.dropna(subset=[\"Average playtime forever\", \"Price\", \"Positive\"])\n",
    "\n",
    "# Eingangs und Zielvariablen definieren\n",
    "X = games[[\"Price\", \"Positive\"]]\n",
    "y = games[\"Average playtime forever\"]\n",
    "\n",
    "# Trainings und Testdaten splitten\n",
    "X_train, X_test, y_train, y_test = train_test_split(X, y, test_size=0.2, random_state=42)\n",
    "\n",
    "# Modell aufbauen und trainieren\n",
    "model = LinearRegression()\n",
    "model.fit(X_train, y_train)\n",
    "\n",
    "# Vorhersagen erstellen\n",
    "predictions = model.predict(X_test)\n"
   ]
  },
  {
   "cell_type": "code",
   "execution_count": 16,
   "id": "dec2a478-2355-4417-9ab5-a99fd9eaf70c",
   "metadata": {},
   "outputs": [
    {
     "name": "stdout",
     "output_type": "stream",
     "text": [
      " Mittlerer quadratischer Fehler (MSE): 639355.76\n"
     ]
    }
   ],
   "source": [
    "from sklearn.metrics import mean_squared_error\n",
    "\n",
    "mse = mean_squared_error(y_test, predictions)\n",
    "print(\" Mittlerer quadratischer Fehler (MSE):\", round(mse, 2))\n"
   ]
  },
  {
   "cell_type": "markdown",
   "id": "156ed4c1-8693-4f35-8544-cf6682a0f5f6",
   "metadata": {},
   "source": [
    "## 4.3 Klassifikation + Wahrheitsmatrix\n",
    "\n",
    "Um eine Klassifikation zu ermöglichen, wird ein Schwellenwert gesetzt:\n",
    "- Wenn `Average playtime forever` > 500 Minuten → **Klasse 1** (viel gespielt)\n",
    "- Ansonsten → **Klasse 0** (wenig gespielt)\n",
    "\n",
    "Auf Basis dieser Klassen berechne ich die Wahrheitsmatrix.\n"
   ]
  },
  {
   "cell_type": "code",
   "execution_count": 13,
   "id": "1b2e768f-4a21-4c26-af7c-9d1dde0a6eee",
   "metadata": {},
   "outputs": [
    {
     "name": "stdout",
     "output_type": "stream",
     "text": [
      " Confusion Matrix:\n",
      "[[10427  4487]\n",
      " [  755  1352]]\n",
      "TN = 10427, FP = 4487, FN = 755, TP = 1352\n",
      " Precision (Langspieler-Vorhersagen genauigkeit): 0.23\n",
      " Recall (Wie viele Langspieler wurden erkannt): 0.64\n"
     ]
    }
   ],
   "source": [
    "from sklearn.metrics import confusion_matrix, precision_score, recall_score\n",
    "\n",
    "# Schwelle definieren\n",
    "threshold = 100\n",
    "\n",
    "# Binäre Klassen erstellen\n",
    "y_test_bin = (y_test >= threshold).astype(int)\n",
    "predictions_bin = (predictions >= threshold).astype(int)\n",
    "\n",
    "# Confusion Matrix berechnen\n",
    "cm = confusion_matrix(y_test_bin, predictions_bin)\n",
    "tn, fp, fn, tp = cm.ravel()\n",
    "\n",
    "print(\" Confusion Matrix:\")\n",
    "print(cm)\n",
    "print(f\"TN = {tn}, FP = {fp}, FN = {fn}, TP = {tp}\")\n",
    "\n",
    "# Precision & Recall berechnen\n",
    "precision = precision_score(y_test_bin, predictions_bin)\n",
    "recall = recall_score(y_test_bin, predictions_bin)\n",
    "\n",
    "print(\" Precision (Langspieler-Vorhersagen genauigkeit):\", round(precision, 2))\n",
    "print(\" Recall (Wie viele Langspieler wurden erkannt):\", round(recall, 2))\n"
   ]
  },
  {
   "cell_type": "markdown",
   "id": "71e6d663-5b82-4bad-a2cd-c3624ca2ec46",
   "metadata": {},
   "source": [
    "## 4.4 Reflexion \n",
    "\n",
    "Das trainierte Modell liefert insgesamt brauchbare Vorhersagen zur Spielzeit basierend auf dem Preis und der Anzahl positiver Bewertungen. Der mittlere quadratische Fehler (MSE) liegt bei 639355.76, was auf gewisse Abweichungen hindeutet. Die Precision beträgt 0.23, der Recall 0.64, was zeigt, dass das Modell viele Langspieler erkennt, aber oft auch falsch liegt. Ursprünglich habe ich zusätzlich die Anzahl der DLCs analysiert, sie jedoch nicht ins finale Modell aufgenommen, da sie kaum Einfluss zeigten. Insgesamt lässt sich sagen, dass weitere Features wie Genre oder Reviews hilfreich wären.\n",
    "\n",
    "\n"
   ]
  },
  {
   "cell_type": "code",
   "execution_count": null,
   "id": "4e3b912c-fbe7-41e4-b8a4-98b7f7d1c54b",
   "metadata": {},
   "outputs": [],
   "source": []
  }
 ],
 "metadata": {
  "kernelspec": {
   "display_name": "Python 3 (ipykernel)",
   "language": "python",
   "name": "python3"
  },
  "language_info": {
   "codemirror_mode": {
    "name": "ipython",
    "version": 3
   },
   "file_extension": ".py",
   "mimetype": "text/x-python",
   "name": "python",
   "nbconvert_exporter": "python",
   "pygments_lexer": "ipython3",
   "version": "3.13.3"
  }
 },
 "nbformat": 4,
 "nbformat_minor": 5
}
